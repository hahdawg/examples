{
 "cells": [
  {
   "cell_type": "code",
   "execution_count": 17,
   "id": "reserved-signal",
   "metadata": {},
   "outputs": [],
   "source": [
    "import time\n",
    "\n",
    "import dask\n",
    "from dask.distributed import Client\n",
    "import numpy as np"
   ]
  },
  {
   "cell_type": "code",
   "execution_count": 2,
   "id": "sacred-province",
   "metadata": {},
   "outputs": [],
   "source": [
    "client = Client()"
   ]
  },
  {
   "cell_type": "markdown",
   "id": "wrapped-shaft",
   "metadata": {},
   "source": [
    "### Dashboard Link Below"
   ]
  },
  {
   "cell_type": "code",
   "execution_count": 16,
   "id": "informational-kennedy",
   "metadata": {},
   "outputs": [
    {
     "data": {
      "text/plain": [
       "'http://127.0.0.1:8787/status'"
      ]
     },
     "execution_count": 16,
     "metadata": {},
     "output_type": "execute_result"
    }
   ],
   "source": [
    "client.dashboard_link"
   ]
  },
  {
   "cell_type": "markdown",
   "id": "equipped-coordinate",
   "metadata": {},
   "source": [
    "### Run Slow Function in Parallel"
   ]
  },
  {
   "cell_type": "code",
   "execution_count": 23,
   "id": "distinct-trade",
   "metadata": {},
   "outputs": [],
   "source": [
    "def slow_double(x):\n",
    "    time.sleep(1)\n",
    "    return 2*x"
   ]
  },
  {
   "cell_type": "code",
   "execution_count": 24,
   "id": "suffering-antigua",
   "metadata": {},
   "outputs": [],
   "source": [
    "xs = np.arange(100)\n",
    "ys = [dask.delayed(slow_double)(x) for x in xs]\n",
    "ys = dask.compute(ys)[0]"
   ]
  },
  {
   "cell_type": "code",
   "execution_count": 14,
   "id": "chicken-oasis",
   "metadata": {},
   "outputs": [],
   "source": [
    "client.close()"
   ]
  }
 ],
 "metadata": {
  "kernelspec": {
   "display_name": "Python 3",
   "language": "python",
   "name": "python3"
  },
  "language_info": {
   "codemirror_mode": {
    "name": "ipython",
    "version": 3
   },
   "file_extension": ".py",
   "mimetype": "text/x-python",
   "name": "python",
   "nbconvert_exporter": "python",
   "pygments_lexer": "ipython3",
   "version": "3.8.6"
  }
 },
 "nbformat": 4,
 "nbformat_minor": 5
}
